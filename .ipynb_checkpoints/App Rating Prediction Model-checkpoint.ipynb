{
 "cells": [
  {
   "cell_type": "code",
   "execution_count": 115,
   "id": "ea732637",
   "metadata": {},
   "outputs": [],
   "source": [
    "import pandas as pd\n",
    "import numpy as np\n",
    "import seaborn as sns\n",
    "from matplotlib import pyplot as plt\n",
    "from matplotlib import gridspec as gridspec\n",
    "from sklearn.model_selection import train_test_split, cross_val_score, KFold, RandomizedSearchCV, cross_validate\n",
    "from sklearn.pipeline import make_pipeline\n",
    "from sklearn.preprocessing import StandardScaler, RobustScaler\n",
    "from sklearn.linear_model import Ridge, Lasso\n",
    "from sklearn.neighbors import KNeighborsRegressor\n",
    "from sklearn.ensemble import RandomForestRegressor, StackingRegressor\n",
    "from xgboost import XGBRegressor\n",
    "from sklearn.svm import SVR\n",
    "from sklearn.metrics import mean_squared_error, mean_absolute_error\n",
    "from scipy.stats import loguniform\n",
    "import warnings\n",
    "warnings.filterwarnings('ignore')\n",
    "%config InlineBackend.figure_format = 'png' # avg is better, however GitHub cant handle it"
   ]
  },
  {
   "cell_type": "code",
   "execution_count": 2,
   "id": "f2ec41b0",
   "metadata": {},
   "outputs": [],
   "source": [
    "df = pd.read_csv('googleplaystore.csv')"
   ]
  },
  {
   "cell_type": "markdown",
   "id": "8829aef3",
   "metadata": {},
   "source": [
    "# EDA"
   ]
  },
  {
   "cell_type": "markdown",
   "id": "ba82d462",
   "metadata": {},
   "source": [
    "## General Summary"
   ]
  },
  {
   "cell_type": "code",
   "execution_count": 3,
   "id": "a4d9c0bb",
   "metadata": {},
   "outputs": [
    {
     "data": {
      "text/html": [
       "<div>\n",
       "<style scoped>\n",
       "    .dataframe tbody tr th:only-of-type {\n",
       "        vertical-align: middle;\n",
       "    }\n",
       "\n",
       "    .dataframe tbody tr th {\n",
       "        vertical-align: top;\n",
       "    }\n",
       "\n",
       "    .dataframe thead th {\n",
       "        text-align: right;\n",
       "    }\n",
       "</style>\n",
       "<table border=\"1\" class=\"dataframe\">\n",
       "  <thead>\n",
       "    <tr style=\"text-align: right;\">\n",
       "      <th></th>\n",
       "      <th>App</th>\n",
       "      <th>Category</th>\n",
       "      <th>Rating</th>\n",
       "      <th>Reviews</th>\n",
       "      <th>Size</th>\n",
       "      <th>Installs</th>\n",
       "      <th>Type</th>\n",
       "      <th>Price</th>\n",
       "      <th>Content Rating</th>\n",
       "      <th>Genres</th>\n",
       "      <th>Last Updated</th>\n",
       "      <th>Current Ver</th>\n",
       "      <th>Android Ver</th>\n",
       "    </tr>\n",
       "  </thead>\n",
       "  <tbody>\n",
       "    <tr>\n",
       "      <th>0</th>\n",
       "      <td>Photo Editor &amp; Candy Camera &amp; Grid &amp; ScrapBook</td>\n",
       "      <td>ART_AND_DESIGN</td>\n",
       "      <td>4.1</td>\n",
       "      <td>159</td>\n",
       "      <td>19M</td>\n",
       "      <td>10,000+</td>\n",
       "      <td>Free</td>\n",
       "      <td>0</td>\n",
       "      <td>Everyone</td>\n",
       "      <td>Art &amp; Design</td>\n",
       "      <td>January 7, 2018</td>\n",
       "      <td>1.0.0</td>\n",
       "      <td>4.0.3 and up</td>\n",
       "    </tr>\n",
       "    <tr>\n",
       "      <th>1</th>\n",
       "      <td>Coloring book moana</td>\n",
       "      <td>ART_AND_DESIGN</td>\n",
       "      <td>3.9</td>\n",
       "      <td>967</td>\n",
       "      <td>14M</td>\n",
       "      <td>500,000+</td>\n",
       "      <td>Free</td>\n",
       "      <td>0</td>\n",
       "      <td>Everyone</td>\n",
       "      <td>Art &amp; Design;Pretend Play</td>\n",
       "      <td>January 15, 2018</td>\n",
       "      <td>2.0.0</td>\n",
       "      <td>4.0.3 and up</td>\n",
       "    </tr>\n",
       "    <tr>\n",
       "      <th>2</th>\n",
       "      <td>U Launcher Lite – FREE Live Cool Themes, Hide ...</td>\n",
       "      <td>ART_AND_DESIGN</td>\n",
       "      <td>4.7</td>\n",
       "      <td>87510</td>\n",
       "      <td>8.7M</td>\n",
       "      <td>5,000,000+</td>\n",
       "      <td>Free</td>\n",
       "      <td>0</td>\n",
       "      <td>Everyone</td>\n",
       "      <td>Art &amp; Design</td>\n",
       "      <td>August 1, 2018</td>\n",
       "      <td>1.2.4</td>\n",
       "      <td>4.0.3 and up</td>\n",
       "    </tr>\n",
       "    <tr>\n",
       "      <th>3</th>\n",
       "      <td>Sketch - Draw &amp; Paint</td>\n",
       "      <td>ART_AND_DESIGN</td>\n",
       "      <td>4.5</td>\n",
       "      <td>215644</td>\n",
       "      <td>25M</td>\n",
       "      <td>50,000,000+</td>\n",
       "      <td>Free</td>\n",
       "      <td>0</td>\n",
       "      <td>Teen</td>\n",
       "      <td>Art &amp; Design</td>\n",
       "      <td>June 8, 2018</td>\n",
       "      <td>Varies with device</td>\n",
       "      <td>4.2 and up</td>\n",
       "    </tr>\n",
       "    <tr>\n",
       "      <th>4</th>\n",
       "      <td>Pixel Draw - Number Art Coloring Book</td>\n",
       "      <td>ART_AND_DESIGN</td>\n",
       "      <td>4.3</td>\n",
       "      <td>967</td>\n",
       "      <td>2.8M</td>\n",
       "      <td>100,000+</td>\n",
       "      <td>Free</td>\n",
       "      <td>0</td>\n",
       "      <td>Everyone</td>\n",
       "      <td>Art &amp; Design;Creativity</td>\n",
       "      <td>June 20, 2018</td>\n",
       "      <td>1.1</td>\n",
       "      <td>4.4 and up</td>\n",
       "    </tr>\n",
       "  </tbody>\n",
       "</table>\n",
       "</div>"
      ],
      "text/plain": [
       "                                                 App        Category  Rating  \\\n",
       "0     Photo Editor & Candy Camera & Grid & ScrapBook  ART_AND_DESIGN     4.1   \n",
       "1                                Coloring book moana  ART_AND_DESIGN     3.9   \n",
       "2  U Launcher Lite – FREE Live Cool Themes, Hide ...  ART_AND_DESIGN     4.7   \n",
       "3                              Sketch - Draw & Paint  ART_AND_DESIGN     4.5   \n",
       "4              Pixel Draw - Number Art Coloring Book  ART_AND_DESIGN     4.3   \n",
       "\n",
       "  Reviews  Size     Installs  Type Price Content Rating  \\\n",
       "0     159   19M      10,000+  Free     0       Everyone   \n",
       "1     967   14M     500,000+  Free     0       Everyone   \n",
       "2   87510  8.7M   5,000,000+  Free     0       Everyone   \n",
       "3  215644   25M  50,000,000+  Free     0           Teen   \n",
       "4     967  2.8M     100,000+  Free     0       Everyone   \n",
       "\n",
       "                      Genres      Last Updated         Current Ver  \\\n",
       "0               Art & Design   January 7, 2018               1.0.0   \n",
       "1  Art & Design;Pretend Play  January 15, 2018               2.0.0   \n",
       "2               Art & Design    August 1, 2018               1.2.4   \n",
       "3               Art & Design      June 8, 2018  Varies with device   \n",
       "4    Art & Design;Creativity     June 20, 2018                 1.1   \n",
       "\n",
       "    Android Ver  \n",
       "0  4.0.3 and up  \n",
       "1  4.0.3 and up  \n",
       "2  4.0.3 and up  \n",
       "3    4.2 and up  \n",
       "4    4.4 and up  "
      ]
     },
     "execution_count": 3,
     "metadata": {},
     "output_type": "execute_result"
    }
   ],
   "source": [
    "df.head()"
   ]
  },
  {
   "cell_type": "code",
   "execution_count": 4,
   "id": "7b69303c",
   "metadata": {},
   "outputs": [
    {
     "name": "stdout",
     "output_type": "stream",
     "text": [
      "<class 'pandas.core.frame.DataFrame'>\n",
      "RangeIndex: 10841 entries, 0 to 10840\n",
      "Data columns (total 13 columns):\n",
      " #   Column          Non-Null Count  Dtype  \n",
      "---  ------          --------------  -----  \n",
      " 0   App             10841 non-null  object \n",
      " 1   Category        10841 non-null  object \n",
      " 2   Rating          9367 non-null   float64\n",
      " 3   Reviews         10841 non-null  object \n",
      " 4   Size            10841 non-null  object \n",
      " 5   Installs        10841 non-null  object \n",
      " 6   Type            10840 non-null  object \n",
      " 7   Price           10841 non-null  object \n",
      " 8   Content Rating  10840 non-null  object \n",
      " 9   Genres          10841 non-null  object \n",
      " 10  Last Updated    10841 non-null  object \n",
      " 11  Current Ver     10833 non-null  object \n",
      " 12  Android Ver     10838 non-null  object \n",
      "dtypes: float64(1), object(12)\n",
      "memory usage: 1.1+ MB\n"
     ]
    }
   ],
   "source": [
    "df.info()"
   ]
  },
  {
   "cell_type": "markdown",
   "id": "6f0963eb",
   "metadata": {},
   "source": [
    "## Missing values"
   ]
  },
  {
   "cell_type": "code",
   "execution_count": 5,
   "id": "1d6cd552",
   "metadata": {},
   "outputs": [],
   "source": [
    "def missing_df(df):\n",
    "    perc_missing = (df.isnull().sum() * 100 / len(df)).round(2)\n",
    "    missing_value_df = pd.DataFrame({'num_missing': df.isnull().sum(),\n",
    "                                     'perc_missing': perc_missing})\n",
    "    missing_value_df = missing_value_df[missing_value_df.num_missing != 0]\n",
    "    return missing_value_df.sort_values(by='perc_missing', ascending=False)"
   ]
  },
  {
   "cell_type": "code",
   "execution_count": 6,
   "id": "defc2fcb",
   "metadata": {},
   "outputs": [
    {
     "data": {
      "text/html": [
       "<div>\n",
       "<style scoped>\n",
       "    .dataframe tbody tr th:only-of-type {\n",
       "        vertical-align: middle;\n",
       "    }\n",
       "\n",
       "    .dataframe tbody tr th {\n",
       "        vertical-align: top;\n",
       "    }\n",
       "\n",
       "    .dataframe thead th {\n",
       "        text-align: right;\n",
       "    }\n",
       "</style>\n",
       "<table border=\"1\" class=\"dataframe\">\n",
       "  <thead>\n",
       "    <tr style=\"text-align: right;\">\n",
       "      <th></th>\n",
       "      <th>num_missing</th>\n",
       "      <th>perc_missing</th>\n",
       "    </tr>\n",
       "  </thead>\n",
       "  <tbody>\n",
       "    <tr>\n",
       "      <th>Rating</th>\n",
       "      <td>1474</td>\n",
       "      <td>13.60</td>\n",
       "    </tr>\n",
       "    <tr>\n",
       "      <th>Current Ver</th>\n",
       "      <td>8</td>\n",
       "      <td>0.07</td>\n",
       "    </tr>\n",
       "    <tr>\n",
       "      <th>Android Ver</th>\n",
       "      <td>3</td>\n",
       "      <td>0.03</td>\n",
       "    </tr>\n",
       "    <tr>\n",
       "      <th>Type</th>\n",
       "      <td>1</td>\n",
       "      <td>0.01</td>\n",
       "    </tr>\n",
       "    <tr>\n",
       "      <th>Content Rating</th>\n",
       "      <td>1</td>\n",
       "      <td>0.01</td>\n",
       "    </tr>\n",
       "  </tbody>\n",
       "</table>\n",
       "</div>"
      ],
      "text/plain": [
       "                num_missing  perc_missing\n",
       "Rating                 1474         13.60\n",
       "Current Ver               8          0.07\n",
       "Android Ver               3          0.03\n",
       "Type                      1          0.01\n",
       "Content Rating            1          0.01"
      ]
     },
     "execution_count": 6,
     "metadata": {},
     "output_type": "execute_result"
    }
   ],
   "source": [
    "missing_df(df)"
   ]
  },
  {
   "cell_type": "markdown",
   "id": "3a498508",
   "metadata": {},
   "source": [
    "## Data Cleaning"
   ]
  },
  {
   "cell_type": "markdown",
   "id": "ae2f700a",
   "metadata": {},
   "source": [
    "Recording to the current data, App Rating is our one and only numeric feature, which is clearly not true. Let's fix that."
   ]
  },
  {
   "cell_type": "code",
   "execution_count": 7,
   "id": "1cb19a0c",
   "metadata": {},
   "outputs": [],
   "source": [
    "def fix_size(row):\n",
    "    if row[-1] == 'M':\n",
    "        return float(row[:-1])*1000000\n",
    "    elif row[-1] == 'k':\n",
    "        return float(row[:-1])*1000\n",
    "    else:\n",
    "        return None"
   ]
  },
  {
   "cell_type": "code",
   "execution_count": 8,
   "id": "4a18ae70",
   "metadata": {},
   "outputs": [],
   "source": [
    "def fix_installs(row):\n",
    "    if row[-1] == '+':\n",
    "        return int(row[:-1].replace(',', ''))\n",
    "    else:\n",
    "        return int(row)"
   ]
  },
  {
   "cell_type": "code",
   "execution_count": 9,
   "id": "9cc686d5",
   "metadata": {},
   "outputs": [],
   "source": [
    "def fix_price(row):\n",
    "    if row[0] == '$':\n",
    "        return float(row[1:])\n",
    "    else:\n",
    "        return float(row)"
   ]
  },
  {
   "cell_type": "code",
   "execution_count": 10,
   "id": "a47948b8",
   "metadata": {},
   "outputs": [],
   "source": [
    "record = df[df['Rating'] == 19] \n",
    "df.drop(record.index, inplace=True) # dropping broken record\n",
    "\n",
    "df['Size'] = df['Size'].apply(fix_size)\n",
    "df['Reviews'] = df['Reviews'].astype(int)\n",
    "df['Installs'] = df['Installs'].apply(fix_installs)\n",
    "df['Price'] = df['Price'].apply(fix_price)\n",
    "df['Type'] = np.where(df['Type'] == 'Paid', 1, 0)"
   ]
  },
  {
   "cell_type": "markdown",
   "id": "350970c3",
   "metadata": {},
   "source": [
    "## Target Variable (Rating) distribution"
   ]
  },
  {
   "cell_type": "code",
   "execution_count": 16,
   "id": "0ce92d34",
   "metadata": {},
   "outputs": [],
   "source": [
    "def show_dist(df, var, bins):\n",
    "    fig = plt.figure(constrained_layout=True, figsize=(10, 5))\n",
    "    grid = gridspec.GridSpec(ncols=3, nrows=1, figure=fig)\n",
    "    \n",
    "    ax1 = fig.add_subplot(grid[0, :2])\n",
    "    ax1.set_title('Histogram of %s' % var)\n",
    "    sns.distplot(df.loc[:, var], bins, norm_hist=True, ax=ax1);\n",
    "    \n",
    "    ax2 = fig.add_subplot(grid[0, 2])\n",
    "    ax2.set_title('Box Plot of %s' % var)\n",
    "    sns.boxplot(y=df.loc[:, var], ax=ax2);"
   ]
  },
  {
   "cell_type": "code",
   "execution_count": 17,
   "id": "c5589ad4",
   "metadata": {},
   "outputs": [
    {
     "data": {
      "image/png": "[encoded data removed]",
      "text/plain": [
       "<Figure size 720x360 with 2 Axes>"
      ]
     },
     "metadata": {
      "needs_background": "light"
     },
     "output_type": "display_data"
    }
   ],
   "source": [
    "show_dist(df, 'Rating', 36)"
   ]
  },
  {
   "cell_type": "code",
   "execution_count": 18,
   "id": "06799233",
   "metadata": {},
   "outputs": [
    {
     "name": "stdout",
     "output_type": "stream",
     "text": [
      "Skewness: -1.8496951283704521\n",
      "Kurtosis: 5.7869240668056\n"
     ]
    }
   ],
   "source": [
    "print(\"Skewness: \" + str(df['Rating'].skew()))\n",
    "print(\"Kurtosis: \" + str(df['Rating'].kurt()))"
   ]
  },
  {
   "cell_type": "markdown",
   "id": "6fb23592",
   "metadata": {},
   "source": [
    "## App Rating vs 'Other Features'\n"
   ]
  },
  {
   "cell_type": "code",
   "execution_count": 19,
   "id": "a324d83c",
   "metadata": {},
   "outputs": [
    {
     "data": {
      "text/html": [
       "<div>\n",
       "<style scoped>\n",
       "    .dataframe tbody tr th:only-of-type {\n",
       "        vertical-align: middle;\n",
       "    }\n",
       "\n",
       "    .dataframe tbody tr th {\n",
       "        vertical-align: top;\n",
       "    }\n",
       "\n",
       "    .dataframe thead th {\n",
       "        text-align: right;\n",
       "    }\n",
       "</style>\n",
       "<table border=\"1\" class=\"dataframe\">\n",
       "  <thead>\n",
       "    <tr style=\"text-align: right;\">\n",
       "      <th></th>\n",
       "      <th>correlation</th>\n",
       "    </tr>\n",
       "  </thead>\n",
       "  <tbody>\n",
       "    <tr>\n",
       "      <th>Size</th>\n",
       "      <td>0.083734</td>\n",
       "    </tr>\n",
       "    <tr>\n",
       "      <th>Reviews</th>\n",
       "      <td>0.068141</td>\n",
       "    </tr>\n",
       "    <tr>\n",
       "      <th>Installs</th>\n",
       "      <td>0.051355</td>\n",
       "    </tr>\n",
       "    <tr>\n",
       "      <th>Type</th>\n",
       "      <td>0.039581</td>\n",
       "    </tr>\n",
       "    <tr>\n",
       "      <th>Price</th>\n",
       "      <td>0.021903</td>\n",
       "    </tr>\n",
       "  </tbody>\n",
       "</table>\n",
       "</div>"
      ],
      "text/plain": [
       "          correlation\n",
       "Size         0.083734\n",
       "Reviews      0.068141\n",
       "Installs     0.051355\n",
       "Type         0.039581\n",
       "Price        0.021903"
      ]
     },
     "execution_count": 19,
     "metadata": {},
     "output_type": "execute_result"
    }
   ],
   "source": [
    "abs(df.corr()['Rating']).sort_values(ascending = False)[1:].to_frame('correlation')"
   ]
  },
  {
   "cell_type": "markdown",
   "id": "682584f6",
   "metadata": {},
   "source": [
    "We see that our numeric features are in very poor correlation with Rating."
   ]
  },
  {
   "cell_type": "code",
   "execution_count": 20,
   "id": "794b9274",
   "metadata": {},
   "outputs": [
    {
     "data": {
      "image/png": "[encoded data removed]",
      "text/plain": [
       "<Figure size 1080x720 with 2 Axes>"
      ]
     },
     "metadata": {
      "needs_background": "light"
     },
     "output_type": "display_data"
    }
   ],
   "source": [
    "plt.subplots(figsize = (15, 10))\n",
    "mask = np.zeros_like(df.corr(), dtype=np.bool)\n",
    "mask[np.triu_indices_from(mask)] = True\n",
    "\n",
    "sns.heatmap(df.corr(), cmap=\"Blues\", \n",
    "            mask = mask, square=True);\n",
    "plt.title(\"Heatmap of all the Features\", fontsize=15);"
   ]
  },
  {
   "cell_type": "markdown",
   "id": "b0c616a2",
   "metadata": {},
   "source": [
    "High correlation Installs-Reviews, it's quite understandable. What is also interesting, there is a lack of negatively correlated features."
   ]
  },
  {
   "cell_type": "markdown",
   "id": "df07ebaf",
   "metadata": {},
   "source": [
    "## Rating vs Reviews"
   ]
  },
  {
   "cell_type": "code",
   "execution_count": 21,
   "id": "fd971d38",
   "metadata": {},
   "outputs": [
    {
     "data": {
      "image/png": "[encoded data removed]",
      "text/plain": [
       "<Figure size 504x360 with 1 Axes>"
      ]
     },
     "metadata": {
      "needs_background": "light"
     },
     "output_type": "display_data"
    }
   ],
   "source": [
    "plt.figure(figsize=(7, 5))\n",
    "sns.regplot(x=df['Reviews'], y=df['Rating']);"
   ]
  },
  {
   "cell_type": "markdown",
   "id": "bef56c7c",
   "metadata": {},
   "source": [
    "We can see that Reviews values are highly imbalanced, there are a lot of outliers. We are going to try to normalize it during Features Engineering."
   ]
  },
  {
   "cell_type": "markdown",
   "id": "02c0d837",
   "metadata": {},
   "source": [
    "## Rating vs Installs"
   ]
  },
  {
   "cell_type": "code",
   "execution_count": 22,
   "id": "ba5a3c4f",
   "metadata": {},
   "outputs": [
    {
     "data": {
      "image/png": "[encoded data removed]",
      "text/plain": [
       "<Figure size 504x360 with 1 Axes>"
      ]
     },
     "metadata": {
      "needs_background": "light"
     },
     "output_type": "display_data"
    }
   ],
   "source": [
    "plt.figure(figsize=(7, 5))\n",
    "ax = sns.boxplot(df['Installs'], df['Rating']);\n",
    "ax.set_xticklabels(ax.get_xticklabels(), rotation=30);"
   ]
  },
  {
   "cell_type": "markdown",
   "id": "e39253d3",
   "metadata": {},
   "source": [
    "## Rating vs Price"
   ]
  },
  {
   "cell_type": "code",
   "execution_count": 23,
   "id": "b64cf406",
   "metadata": {},
   "outputs": [
    {
     "data": {
      "image/png": "[encoded data removed]",
      "text/plain": [
       "<Figure size 504x360 with 1 Axes>"
      ]
     },
     "metadata": {
      "needs_background": "light"
     },
     "output_type": "display_data"
    }
   ],
   "source": [
    "plt.figure(figsize=(7, 5))\n",
    "sns.scatterplot(x=df['Price'], y=df['Rating']);"
   ]
  },
  {
   "cell_type": "markdown",
   "id": "760ff66c",
   "metadata": {},
   "source": [
    "Again, many outliers."
   ]
  },
  {
   "cell_type": "markdown",
   "id": "ca1f4ec6",
   "metadata": {},
   "source": [
    "## Rating vs Type"
   ]
  },
  {
   "cell_type": "code",
   "execution_count": 24,
   "id": "57668cae",
   "metadata": {},
   "outputs": [
    {
     "data": {
      "image/png": "[encoded data removed]",
      "text/plain": [
       "<Figure size 504x360 with 1 Axes>"
      ]
     },
     "metadata": {
      "needs_background": "light"
     },
     "output_type": "display_data"
    }
   ],
   "source": [
    "plt.figure(figsize=(7, 5))\n",
    "ax = sns.boxplot(df['Type'], df['Rating']);\n",
    "ax.set_xticklabels(['Free', 'Paid']);"
   ]
  },
  {
   "cell_type": "markdown",
   "id": "ab649881",
   "metadata": {},
   "source": [
    "## Rating vs Category"
   ]
  },
  {
   "cell_type": "code",
   "execution_count": 25,
   "id": "09e7a127",
   "metadata": {},
   "outputs": [
    {
     "data": {
      "image/png": "[encoded data removed]",
      "text/plain": [
       "<Figure size 504x648 with 1 Axes>"
      ]
     },
     "metadata": {
      "needs_background": "light"
     },
     "output_type": "display_data"
    }
   ],
   "source": [
    "plt.figure(figsize=(7, 9))\n",
    "ax = sns.boxplot(y = df['Category'], x = df['Rating'])"
   ]
  },
  {
   "cell_type": "markdown",
   "id": "bd05e73a",
   "metadata": {},
   "source": [
    "# Features Engineering"
   ]
  },
  {
   "cell_type": "markdown",
   "id": "a864aad0",
   "metadata": {},
   "source": [
    "## Handling missing values"
   ]
  },
  {
   "cell_type": "code",
   "execution_count": 26,
   "id": "50169276",
   "metadata": {},
   "outputs": [
    {
     "data": {
      "text/html": [
       "<div>\n",
       "<style scoped>\n",
       "    .dataframe tbody tr th:only-of-type {\n",
       "        vertical-align: middle;\n",
       "    }\n",
       "\n",
       "    .dataframe tbody tr th {\n",
       "        vertical-align: top;\n",
       "    }\n",
       "\n",
       "    .dataframe thead th {\n",
       "        text-align: right;\n",
       "    }\n",
       "</style>\n",
       "<table border=\"1\" class=\"dataframe\">\n",
       "  <thead>\n",
       "    <tr style=\"text-align: right;\">\n",
       "      <th></th>\n",
       "      <th>num_missing</th>\n",
       "      <th>perc_missing</th>\n",
       "    </tr>\n",
       "  </thead>\n",
       "  <tbody>\n",
       "    <tr>\n",
       "      <th>Size</th>\n",
       "      <td>1695</td>\n",
       "      <td>15.64</td>\n",
       "    </tr>\n",
       "    <tr>\n",
       "      <th>Rating</th>\n",
       "      <td>1474</td>\n",
       "      <td>13.60</td>\n",
       "    </tr>\n",
       "    <tr>\n",
       "      <th>Current Ver</th>\n",
       "      <td>8</td>\n",
       "      <td>0.07</td>\n",
       "    </tr>\n",
       "    <tr>\n",
       "      <th>Android Ver</th>\n",
       "      <td>2</td>\n",
       "      <td>0.02</td>\n",
       "    </tr>\n",
       "  </tbody>\n",
       "</table>\n",
       "</div>"
      ],
      "text/plain": [
       "             num_missing  perc_missing\n",
       "Size                1695         15.64\n",
       "Rating              1474         13.60\n",
       "Current Ver            8          0.07\n",
       "Android Ver            2          0.02"
      ]
     },
     "execution_count": 26,
     "metadata": {},
     "output_type": "execute_result"
    }
   ],
   "source": [
    "missing_df(df)"
   ]
  },
  {
   "cell_type": "code",
   "execution_count": 27,
   "id": "00b4e8a5",
   "metadata": {},
   "outputs": [],
   "source": [
    "df['Rating'] = df['Rating'].fillna(df['Rating'].median())\n",
    "df['Size'] = df['Size'].fillna(method = 'ffill')\n",
    "df['Current Ver'] = df['Current Ver'].fillna(method = 'ffill')\n",
    "df['Android Ver'] = df['Android Ver'].fillna(method = 'ffill')"
   ]
  },
  {
   "cell_type": "code",
   "execution_count": 28,
   "id": "d0644008",
   "metadata": {},
   "outputs": [
    {
     "data": {
      "text/html": [
       "<div>\n",
       "<style scoped>\n",
       "    .dataframe tbody tr th:only-of-type {\n",
       "        vertical-align: middle;\n",
       "    }\n",
       "\n",
       "    .dataframe tbody tr th {\n",
       "        vertical-align: top;\n",
       "    }\n",
       "\n",
       "    .dataframe thead th {\n",
       "        text-align: right;\n",
       "    }\n",
       "</style>\n",
       "<table border=\"1\" class=\"dataframe\">\n",
       "  <thead>\n",
       "    <tr style=\"text-align: right;\">\n",
       "      <th></th>\n",
       "      <th>num_missing</th>\n",
       "      <th>perc_missing</th>\n",
       "    </tr>\n",
       "  </thead>\n",
       "  <tbody>\n",
       "  </tbody>\n",
       "</table>\n",
       "</div>"
      ],
      "text/plain": [
       "Empty DataFrame\n",
       "Columns: [num_missing, perc_missing]\n",
       "Index: []"
      ]
     },
     "execution_count": 28,
     "metadata": {},
     "output_type": "execute_result"
    }
   ],
   "source": [
    "missing_df(df)"
   ]
  },
  {
   "cell_type": "markdown",
   "id": "6e67e6ee",
   "metadata": {},
   "source": [
    "## Fixing Features Skewness"
   ]
  },
  {
   "cell_type": "code",
   "execution_count": 29,
   "id": "2784c009",
   "metadata": {},
   "outputs": [],
   "source": [
    "def show_skewed(df):\n",
    "    num_features = df.dtypes[df.dtypes != 'object'].index.values\n",
    "    num_features = num_features[num_features != 'Type']\n",
    "    num_features = num_features[num_features != 'Rating']\n",
    "    skew_features = df[num_features].apply(lambda x: x.skew()).sort_values(ascending=False)\n",
    "    return skew_features.to_frame('Skewness')"
   ]
  },
  {
   "cell_type": "code",
   "execution_count": 30,
   "id": "eda9791e",
   "metadata": {},
   "outputs": [
    {
     "data": {
      "text/html": [
       "<div>\n",
       "<style scoped>\n",
       "    .dataframe tbody tr th:only-of-type {\n",
       "        vertical-align: middle;\n",
       "    }\n",
       "\n",
       "    .dataframe tbody tr th {\n",
       "        vertical-align: top;\n",
       "    }\n",
       "\n",
       "    .dataframe thead th {\n",
       "        text-align: right;\n",
       "    }\n",
       "</style>\n",
       "<table border=\"1\" class=\"dataframe\">\n",
       "  <thead>\n",
       "    <tr style=\"text-align: right;\">\n",
       "      <th></th>\n",
       "      <th>Skewness</th>\n",
       "    </tr>\n",
       "  </thead>\n",
       "  <tbody>\n",
       "    <tr>\n",
       "      <th>Price</th>\n",
       "      <td>23.707392</td>\n",
       "    </tr>\n",
       "    <tr>\n",
       "      <th>Reviews</th>\n",
       "      <td>16.449584</td>\n",
       "    </tr>\n",
       "    <tr>\n",
       "      <th>Installs</th>\n",
       "      <td>9.572067</td>\n",
       "    </tr>\n",
       "    <tr>\n",
       "      <th>Size</th>\n",
       "      <td>1.528761</td>\n",
       "    </tr>\n",
       "  </tbody>\n",
       "</table>\n",
       "</div>"
      ],
      "text/plain": [
       "           Skewness\n",
       "Price     23.707392\n",
       "Reviews   16.449584\n",
       "Installs   9.572067\n",
       "Size       1.528761"
      ]
     },
     "execution_count": 30,
     "metadata": {},
     "output_type": "execute_result"
    }
   ],
   "source": [
    "skew_features = show_skewed(df)\n",
    "skew_features"
   ]
  },
  {
   "cell_type": "code",
   "execution_count": 31,
   "id": "b3b4213b",
   "metadata": {},
   "outputs": [],
   "source": [
    "def fix_skewness(skew_features):\n",
    "    from scipy.special import boxcox1p\n",
    "    from scipy.stats import boxcox_normmax\n",
    "    \n",
    "    to_fix = skew_features[abs(skew_features) > 0.6]\n",
    "    for feature in to_fix.index:\n",
    "        df[feature] = boxcox1p(df[feature], boxcox_normmax(df[feature] + 1))"
   ]
  },
  {
   "cell_type": "code",
   "execution_count": 32,
   "id": "a367c330",
   "metadata": {},
   "outputs": [],
   "source": [
    "fix_skewness(skew_features)"
   ]
  },
  {
   "cell_type": "code",
   "execution_count": 33,
   "id": "53eca513",
   "metadata": {},
   "outputs": [
    {
     "data": {
      "text/html": [
       "<div>\n",
       "<style scoped>\n",
       "    .dataframe tbody tr th:only-of-type {\n",
       "        vertical-align: middle;\n",
       "    }\n",
       "\n",
       "    .dataframe tbody tr th {\n",
       "        vertical-align: top;\n",
       "    }\n",
       "\n",
       "    .dataframe thead th {\n",
       "        text-align: right;\n",
       "    }\n",
       "</style>\n",
       "<table border=\"1\" class=\"dataframe\">\n",
       "  <thead>\n",
       "    <tr style=\"text-align: right;\">\n",
       "      <th></th>\n",
       "      <th>Skewness</th>\n",
       "    </tr>\n",
       "  </thead>\n",
       "  <tbody>\n",
       "    <tr>\n",
       "      <th>Price</th>\n",
       "      <td>3.504562</td>\n",
       "    </tr>\n",
       "    <tr>\n",
       "      <th>Reviews</th>\n",
       "      <td>0.085492</td>\n",
       "    </tr>\n",
       "    <tr>\n",
       "      <th>Installs</th>\n",
       "      <td>-0.002772</td>\n",
       "    </tr>\n",
       "    <tr>\n",
       "      <th>Size</th>\n",
       "      <td>-0.049428</td>\n",
       "    </tr>\n",
       "  </tbody>\n",
       "</table>\n",
       "</div>"
      ],
      "text/plain": [
       "          Skewness\n",
       "Price     3.504562\n",
       "Reviews   0.085492\n",
       "Installs -0.002772\n",
       "Size     -0.049428"
      ]
     },
     "execution_count": 33,
     "metadata": {},
     "output_type": "execute_result"
    }
   ],
   "source": [
    "skew_features = show_skewed(df)\n",
    "skew_features"
   ]
  },
  {
   "cell_type": "markdown",
   "id": "7ddb7ae9",
   "metadata": {},
   "source": [
    "## Creating New Features"
   ]
  },
  {
   "cell_type": "code",
   "execution_count": 34,
   "id": "ea314c88",
   "metadata": {},
   "outputs": [],
   "source": [
    "df['Last Updated'] = pd.to_datetime(df['Last Updated'])\n",
    "df['Last_Updated_month'] = df['Last Updated'].dt.month\n",
    "df['Last_Updated_year'] = df['Last Updated'].dt.year"
   ]
  },
  {
   "cell_type": "markdown",
   "id": "87a48018",
   "metadata": {},
   "source": [
    "## Deleting Some Features"
   ]
  },
  {
   "cell_type": "code",
   "execution_count": 35,
   "id": "4733430b",
   "metadata": {},
   "outputs": [],
   "source": [
    "df = df.drop(['App', 'Genres', 'Current Ver', 'Last Updated'], axis=1)"
   ]
  },
  {
   "cell_type": "markdown",
   "id": "4b9f047f",
   "metadata": {},
   "source": [
    "## Categorical Features Encoding"
   ]
  },
  {
   "cell_type": "code",
   "execution_count": 36,
   "id": "0b8a567f",
   "metadata": {},
   "outputs": [
    {
     "data": {
      "text/plain": [
       "(10840, 80)"
      ]
     },
     "execution_count": 36,
     "metadata": {},
     "output_type": "execute_result"
    }
   ],
   "source": [
    "df = pd.get_dummies(df).reset_index(drop=True)\n",
    "df.shape"
   ]
  },
  {
   "cell_type": "markdown",
   "id": "f593a425",
   "metadata": {},
   "source": [
    "# Training Model"
   ]
  },
  {
   "cell_type": "code",
   "execution_count": 37,
   "id": "38ea024d",
   "metadata": {},
   "outputs": [],
   "source": [
    "X = df.drop('Rating', axis=1)\n",
    "y = df['Rating']\n",
    "X_train, X_test, y_train, y_test = train_test_split(X, y, test_size = .3, random_state=0)"
   ]
  },
  {
   "cell_type": "markdown",
   "id": "0521954d",
   "metadata": {},
   "source": [
    "## Fitting Models "
   ]
  },
  {
   "cell_type": "code",
   "execution_count": 86,
   "id": "89c94b77",
   "metadata": {},
   "outputs": [],
   "source": [
    "def create_models():\n",
    "    ridge = Ridge(random_state=42)\n",
    "    rff = RandomForestRegressor(random_state=42)\n",
    "    xgb = XGBRegressor(n_estimators=100, max_depth=5, random_state=42)\n",
    "    svr = make_pipeline(RobustScaler(), SVR(C=20, epsilon= 0.01, gamma=0.001))\n",
    "    knn = KNeighborsRegressor(n_neighbors=15)\n",
    "    \n",
    "    return [ridge, rff, xgb, svr, knn]"
   ]
  },
  {
   "cell_type": "code",
   "execution_count": 83,
   "id": "99903058",
   "metadata": {},
   "outputs": [],
   "source": [
    "def fit_models(X_train, y_train, models):\n",
    "    kfold = KFold(n_splits=5, shuffle=True, random_state=42)\n",
    "    scoring = {'MSE': 'neg_mean_squared_error',\n",
    "               'MAE': 'neg_mean_absolute_error'}\n",
    "    cv_results = []\n",
    "    \n",
    "    for model in models:\n",
    "        cv_model = cross_validate(model, X_train, y_train, scoring=scoring, cv=kfold)\n",
    "        cv_results.append([(-1)*cv_model['test_MSE'].mean(), (-1)*cv_model['test_MAE'].mean()])\n",
    "    \n",
    "    return cv_results"
   ]
  },
  {
   "cell_type": "code",
   "execution_count": 84,
   "id": "4c837476",
   "metadata": {},
   "outputs": [],
   "source": [
    "def show_cv_results(cv_results):\n",
    "    cvr_df = pd.DataFrame(index=['Ridge', 'RFF', 'XGBoost', 'SVR', 'KNN'], data=cv_results, columns=['MSE', 'MAE'])\n",
    "    return cvr_df"
   ]
  },
  {
   "cell_type": "code",
   "execution_count": 87,
   "id": "7483b3cc",
   "metadata": {},
   "outputs": [
    {
     "data": {
      "text/html": [
       "<div>\n",
       "<style scoped>\n",
       "    .dataframe tbody tr th:only-of-type {\n",
       "        vertical-align: middle;\n",
       "    }\n",
       "\n",
       "    .dataframe tbody tr th {\n",
       "        vertical-align: top;\n",
       "    }\n",
       "\n",
       "    .dataframe thead th {\n",
       "        text-align: right;\n",
       "    }\n",
       "</style>\n",
       "<table border=\"1\" class=\"dataframe\">\n",
       "  <thead>\n",
       "    <tr style=\"text-align: right;\">\n",
       "      <th></th>\n",
       "      <th>MSE</th>\n",
       "      <th>MAE</th>\n",
       "    </tr>\n",
       "  </thead>\n",
       "  <tbody>\n",
       "    <tr>\n",
       "      <th>Ridge</th>\n",
       "      <td>0.207253</td>\n",
       "      <td>0.305711</td>\n",
       "    </tr>\n",
       "    <tr>\n",
       "      <th>RFF</th>\n",
       "      <td>0.198612</td>\n",
       "      <td>0.285964</td>\n",
       "    </tr>\n",
       "    <tr>\n",
       "      <th>XGBoost</th>\n",
       "      <td>0.203027</td>\n",
       "      <td>0.297114</td>\n",
       "    </tr>\n",
       "    <tr>\n",
       "      <th>SVR</th>\n",
       "      <td>0.215449</td>\n",
       "      <td>0.290267</td>\n",
       "    </tr>\n",
       "    <tr>\n",
       "      <th>KNN</th>\n",
       "      <td>0.222145</td>\n",
       "      <td>0.318539</td>\n",
       "    </tr>\n",
       "  </tbody>\n",
       "</table>\n",
       "</div>"
      ],
      "text/plain": [
       "              MSE       MAE\n",
       "Ridge    0.207253  0.305711\n",
       "RFF      0.198612  0.285964\n",
       "XGBoost  0.203027  0.297114\n",
       "SVR      0.215449  0.290267\n",
       "KNN      0.222145  0.318539"
      ]
     },
     "execution_count": 87,
     "metadata": {},
     "output_type": "execute_result"
    }
   ],
   "source": [
    "models = create_models()\n",
    "cv_results = fit_models(X_train, y_train, models)\n",
    "show_cv_results(cv_results)"
   ]
  },
  {
   "cell_type": "markdown",
   "id": "d81be22d",
   "metadata": {},
   "source": [
    "## Hyperparameter Tuning"
   ]
  },
  {
   "cell_type": "code",
   "execution_count": 99,
   "id": "5693ee66",
   "metadata": {},
   "outputs": [],
   "source": [
    "def model_tuning(X_train, y_train, model, params):\n",
    "    kfold = KFold(n_splits=5, shuffle=True, random_state=42)\n",
    "    random_search = RandomizedSearchCV(estimator=model,\n",
    "                                       param_distributions=params,\n",
    "                                       scoring='neg_mean_squared_error',\n",
    "                                       cv=kfold)\n",
    "    random_search.fit(X_train, y_train)\n",
    "    \n",
    "    return random_search"
   ]
  },
  {
   "cell_type": "code",
   "execution_count": 100,
   "id": "f194b0c9",
   "metadata": {},
   "outputs": [],
   "source": [
    "def tune_all_models(X_train, y_train, models, params_list):\n",
    "    final_models = []\n",
    "    \n",
    "    for model, params in zip(models, params_list):\n",
    "        random_search = model_tuning(X_train, y_train, model, params)\n",
    "        final_models.append(random_search.best_estimator_)\n",
    "        \n",
    "    return final_models"
   ]
  },
  {
   "cell_type": "code",
   "execution_count": 109,
   "id": "51cf103c",
   "metadata": {},
   "outputs": [],
   "source": [
    "params_list = [{'alpha': loguniform(0.01, 100)},\n",
    "               {'n_estimators': [100, 1000]},\n",
    "               {'n_estimators': [100, 1000],\n",
    "                'learning_rate': [0.1, 0.01],\n",
    "                'max_depth': [3, 4, 5]},\n",
    "               {'svr__C': loguniform(0.01, 10),\n",
    "                'svr__gamma': loguniform(1e-5, 1),\n",
    "                'svr__epsilon': loguniform(1e-3, 1)},\n",
    "              {'n_neighbors': [5, 10, 15, 20]}]\n",
    "\n",
    "final_models = tune_all_models(X_train, y_train, models, params_list)"
   ]
  },
  {
   "cell_type": "code",
   "execution_count": 110,
   "id": "a8481bf1",
   "metadata": {},
   "outputs": [
    {
     "data": {
      "text/html": [
       "<div>\n",
       "<style scoped>\n",
       "    .dataframe tbody tr th:only-of-type {\n",
       "        vertical-align: middle;\n",
       "    }\n",
       "\n",
       "    .dataframe tbody tr th {\n",
       "        vertical-align: top;\n",
       "    }\n",
       "\n",
       "    .dataframe thead th {\n",
       "        text-align: right;\n",
       "    }\n",
       "</style>\n",
       "<table border=\"1\" class=\"dataframe\">\n",
       "  <thead>\n",
       "    <tr style=\"text-align: right;\">\n",
       "      <th></th>\n",
       "      <th>MSE</th>\n",
       "      <th>MAE</th>\n",
       "    </tr>\n",
       "  </thead>\n",
       "  <tbody>\n",
       "    <tr>\n",
       "      <th>Ridge</th>\n",
       "      <td>0.206927</td>\n",
       "      <td>0.304233</td>\n",
       "    </tr>\n",
       "    <tr>\n",
       "      <th>RFF</th>\n",
       "      <td>0.197207</td>\n",
       "      <td>0.284720</td>\n",
       "    </tr>\n",
       "    <tr>\n",
       "      <th>XGBoost</th>\n",
       "      <td>0.196612</td>\n",
       "      <td>0.292595</td>\n",
       "    </tr>\n",
       "    <tr>\n",
       "      <th>SVR</th>\n",
       "      <td>0.222095</td>\n",
       "      <td>0.304243</td>\n",
       "    </tr>\n",
       "    <tr>\n",
       "      <th>KNN</th>\n",
       "      <td>0.220470</td>\n",
       "      <td>0.315745</td>\n",
       "    </tr>\n",
       "  </tbody>\n",
       "</table>\n",
       "</div>"
      ],
      "text/plain": [
       "              MSE       MAE\n",
       "Ridge    0.206927  0.304233\n",
       "RFF      0.197207  0.284720\n",
       "XGBoost  0.196612  0.292595\n",
       "SVR      0.222095  0.304243\n",
       "KNN      0.220470  0.315745"
      ]
     },
     "execution_count": 110,
     "metadata": {},
     "output_type": "execute_result"
    }
   ],
   "source": [
    "hyperparam_results = fit_models(X_train, y_train, final_models)\n",
    "show_cv_results(hyperparam_results)"
   ]
  },
  {
   "cell_type": "markdown",
   "id": "fb81dfde",
   "metadata": {},
   "source": [
    "## Stacking"
   ]
  },
  {
   "cell_type": "code",
   "execution_count": 119,
   "id": "2ec4d593",
   "metadata": {},
   "outputs": [],
   "source": [
    "def cv_rmse(model, X_train, y_train):\n",
    "    kfolds = KFold(n_splits=5, shuffle=True, random_state=42)\n",
    "    rmse = np.sqrt((-1)*cross_val_score(model, X_train, y_train, scoring=\"neg_mean_squared_error\", cv=kfolds))\n",
    "    return rmse.mean()"
   ]
  },
  {
   "cell_type": "code",
   "execution_count": 132,
   "id": "11040df3",
   "metadata": {},
   "outputs": [],
   "source": [
    "def show_stacking_results(results):\n",
    "    return pd.DataFrame(index=['Stacking'], data=results, columns=['MSE', 'MAE'])"
   ]
  },
  {
   "cell_type": "code",
   "execution_count": 133,
   "id": "9fab16fa",
   "metadata": {},
   "outputs": [
    {
     "data": {
      "text/html": [
       "<div>\n",
       "<style scoped>\n",
       "    .dataframe tbody tr th:only-of-type {\n",
       "        vertical-align: middle;\n",
       "    }\n",
       "\n",
       "    .dataframe tbody tr th {\n",
       "        vertical-align: top;\n",
       "    }\n",
       "\n",
       "    .dataframe thead th {\n",
       "        text-align: right;\n",
       "    }\n",
       "</style>\n",
       "<table border=\"1\" class=\"dataframe\">\n",
       "  <thead>\n",
       "    <tr style=\"text-align: right;\">\n",
       "      <th></th>\n",
       "      <th>MSE</th>\n",
       "      <th>MAE</th>\n",
       "    </tr>\n",
       "  </thead>\n",
       "  <tbody>\n",
       "    <tr>\n",
       "      <th>Stacking</th>\n",
       "      <td>0.197557</td>\n",
       "      <td>0.288371</td>\n",
       "    </tr>\n",
       "  </tbody>\n",
       "</table>\n",
       "</div>"
      ],
      "text/plain": [
       "               MSE       MAE\n",
       "Stacking  0.197557  0.288371"
      ]
     },
     "execution_count": 133,
     "metadata": {},
     "output_type": "execute_result"
    }
   ],
   "source": [
    "estimators = [('Ridge', final_models[0]),\n",
    "             ('RFF', final_models[1]),\n",
    "             ('XGBoost', final_models[2]),\n",
    "             ('SVR', final_models[3]),\n",
    "             ('KNN', final_models[4])]\n",
    "\n",
    "stacking = StackingRegressor(estimators=estimators, final_estimator=final_models[2])\n",
    "show_stacking_results(fit_models(X_train, y_train, [stacking]))"
   ]
  },
  {
   "cell_type": "code",
   "execution_count": 134,
   "id": "bbf833a1",
   "metadata": {},
   "outputs": [],
   "source": [
    "final_models.append(stacking)"
   ]
  },
  {
   "cell_type": "markdown",
   "id": "3d247995",
   "metadata": {},
   "source": [
    "# Final Model"
   ]
  },
  {
   "cell_type": "code",
   "execution_count": 138,
   "id": "046e5fd4",
   "metadata": {},
   "outputs": [],
   "source": [
    "ridge = final_models[0].fit(X_train, y_train)\n",
    "rff = final_models[1].fit(X_train, y_train)\n",
    "xgb = final_models[2].fit(X_train, y_train)\n",
    "svr = final_models[3].fit(X_train, y_train)\n",
    "knn = final_models[4].fit(X_train, y_train)\n",
    "stacking = final_models[5].fit(X_train, y_train)"
   ]
  },
  {
   "cell_type": "code",
   "execution_count": 153,
   "id": "6d41ea62",
   "metadata": {},
   "outputs": [],
   "source": [
    "def create_test_results(X_test, y_test, models):\n",
    "    test_results = []\n",
    "    for model in models:\n",
    "        test_results.append([mean_squared_error(model.predict(X_test), y_test).round(3),\n",
    "                            mean_absolute_error(model.predict(X_test), y_test).round(3)])\n",
    "    return test_results"
   ]
  },
  {
   "cell_type": "code",
   "execution_count": 156,
   "id": "d19d2df3",
   "metadata": {},
   "outputs": [],
   "source": [
    "def present_results(test_results):\n",
    "    return pd.DataFrame(index=['Ridge', 'RFF', 'XGBoost', 'SVR', 'KNN', 'Stacking'],\n",
    "                        data=test_results, columns=['MSE', 'MAE']).sort_values(by=['MSE', 'MAE'])"
   ]
  },
  {
   "cell_type": "code",
   "execution_count": 158,
   "id": "12c4b63c",
   "metadata": {},
   "outputs": [
    {
     "data": {
      "text/html": [
       "<div>\n",
       "<style scoped>\n",
       "    .dataframe tbody tr th:only-of-type {\n",
       "        vertical-align: middle;\n",
       "    }\n",
       "\n",
       "    .dataframe tbody tr th {\n",
       "        vertical-align: top;\n",
       "    }\n",
       "\n",
       "    .dataframe thead th {\n",
       "        text-align: right;\n",
       "    }\n",
       "</style>\n",
       "<table border=\"1\" class=\"dataframe\">\n",
       "  <thead>\n",
       "    <tr style=\"text-align: right;\">\n",
       "      <th></th>\n",
       "      <th>MSE</th>\n",
       "      <th>MAE</th>\n",
       "    </tr>\n",
       "  </thead>\n",
       "  <tbody>\n",
       "    <tr>\n",
       "      <th>Stacking</th>\n",
       "      <td>0.189</td>\n",
       "      <td>0.277</td>\n",
       "    </tr>\n",
       "    <tr>\n",
       "      <th>RFF</th>\n",
       "      <td>0.190</td>\n",
       "      <td>0.275</td>\n",
       "    </tr>\n",
       "    <tr>\n",
       "      <th>XGBoost</th>\n",
       "      <td>0.191</td>\n",
       "      <td>0.286</td>\n",
       "    </tr>\n",
       "    <tr>\n",
       "      <th>Ridge</th>\n",
       "      <td>0.198</td>\n",
       "      <td>0.297</td>\n",
       "    </tr>\n",
       "    <tr>\n",
       "      <th>SVR</th>\n",
       "      <td>0.209</td>\n",
       "      <td>0.290</td>\n",
       "    </tr>\n",
       "    <tr>\n",
       "      <th>KNN</th>\n",
       "      <td>0.212</td>\n",
       "      <td>0.308</td>\n",
       "    </tr>\n",
       "  </tbody>\n",
       "</table>\n",
       "</div>"
      ],
      "text/plain": [
       "            MSE    MAE\n",
       "Stacking  0.189  0.277\n",
       "RFF       0.190  0.275\n",
       "XGBoost   0.191  0.286\n",
       "Ridge     0.198  0.297\n",
       "SVR       0.209  0.290\n",
       "KNN       0.212  0.308"
      ]
     },
     "execution_count": 158,
     "metadata": {},
     "output_type": "execute_result"
    }
   ],
   "source": [
    "models = (ridge, rff, xgb, svr, knn, stacking)\n",
    "final_results = present_results(create_test_results(X_test, y_test, models))\n",
    "final_results"
   ]
  },
  {
   "cell_type": "code",
   "execution_count": 192,
   "id": "76a95871",
   "metadata": {},
   "outputs": [
    {
     "data": {
      "image/png": "[encoded data removed]",
      "text/plain": [
       "<Figure size 648x504 with 1 Axes>"
      ]
     },
     "metadata": {},
     "output_type": "display_data"
    }
   ],
   "source": [
    "plt.style.use('seaborn')\n",
    "final_results.reset_index().rename({'index': 'Model'}, axis=1).plot(x='Model', y=['MSE', 'MAE'], kind='barh', figsize=[9, 7]);"
   ]
  }
 ],
 "metadata": {
  "kernelspec": {
   "display_name": "Python 3",
   "language": "python",
   "name": "python3"
  },
  "language_info": {
   "codemirror_mode": {
    "name": "ipython",
    "version": 3
   },
   "file_extension": ".py",
   "mimetype": "text/x-python",
   "name": "python",
   "nbconvert_exporter": "python",
   "pygments_lexer": "ipython3",
   "version": "3.8.8"
  },
  "toc": {
   "base_numbering": 1,
   "nav_menu": {},
   "number_sections": false,
   "sideBar": true,
   "skip_h1_title": false,
   "title_cell": "Table of Contents",
   "title_sidebar": "Contents",
   "toc_cell": false,
   "toc_position": {
    "height": "calc(100% - 180px)",
    "left": "10px",
    "top": "150px",
    "width": "303.837px"
   },
   "toc_section_display": true,
   "toc_window_display": true
  }
 },
 "nbformat": 4,
 "nbformat_minor": 5
}
